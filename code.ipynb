{
 "cells": [
  {
   "cell_type": "code",
   "execution_count": null,
   "metadata": {},
   "outputs": [],
   "source": [
    "!pip install PyMuPDF pytesseract Pillow tesseract openai"
   ]
  },
  {
   "cell_type": "code",
   "execution_count": 34,
   "metadata": {},
   "outputs": [
    {
     "name": "stdout",
     "output_type": "stream",
     "text": [
      "G VENKATA RAVI RAM\n",
      "7696884562 ⋄Mangalore\n",
      "Gmail ⋄LinkedIn ⋄GitHub ⋄Scholar\n",
      "EDUCATION\n",
      "B.Tech in Artificial Intelligence\n",
      "2021 - 2025\n",
      "National Institute of Technology, Karnataka, IT Dept. Current GPA: 8.95\n",
      "Minor in Management\n",
      "2022 - 2025\n",
      "National Institute of Technology, Karnataka, School of Management\n",
      "EXPERIENCE\n",
      "Dept. of Optometry, University of Waterloo\n",
      "May 2024 - Present\n",
      "Role: MITACS Globalink Research Intern\n",
      "Waterloo, Canada (On-Site)\n",
      "• Working on Tumor Segmentation under guidance of Dr.Vasudevan Lakshminarayan.\n",
      "• Utilizing CNN and researching on Computer Vision techniques for the same.\n",
      "• Skills Used: Deep Learning, Machine Learning, Computer Vision, Math, Parallel Computing\n",
      "SCaLAR Lab : Website\n",
      "Sep 2023 - Apr 2024\n",
      "Role: Member, Web-Admin\n",
      "Surathkal, India (On-Site)\n",
      "• Submitted a Proposal to ISRO in RESPOND 2023 for collaboration of an LLM based project along with proof of concept.\n",
      "• Working on Capstone Project towards automation of Heath-Care under guidance of Dr. Anand Kumar M.\n",
      "• Skills Used: HTML, CSS, Javascript, ML, Software Engg., Github-Pages, LLM\n",
      "HALE Lab, NITK : Website\n",
      "Jun 2023 - Aug 2023\n",
      "Role: Research Intern\n",
      "Surathkal, India (Remote)\n",
      "• Worked on Table extraction from scanned documents and identified potential challenges in due course.\n",
      "• Devised an object-detection and contour-detection based algo for table detection and segmentation from scanned documents.\n",
      "• Skills Used: Data Visualizations, Image preprocessing, OpenCV, YOLOv5, OCR, Computer Vision, NLP\n",
      "PROJECTS\n",
      "Item Difficulty & Response time prediction || LLM, Regression\n",
      "(Paper Link) Presented at NAACL ’24\n",
      "• Achieved Global Ranks 19 and 12 in Shared Task of predicting Question difficulty and response time respectively.\n",
      "• Performed data augmentation to balance data, used Bio-BERT embeddings and extracted numerical features for regression.\n",
      "Automation in Space Mission Analysis using LLM || LLM, BERT, Data-Preperation\n",
      "Presented at ICITIIT ’24\n",
      "• Inspired by ISRO problem statement RES-URSC-2022-003 stated in RESPOND Basket 2022.\n",
      "• Developed end-to-end system for understanding natural language query and presenting results using LLM. (71% accuracy)\n",
      "Heart Disease Predictor || Bio-inspired algorithms, Flask, Streamlit\n",
      "(Paper Link) Presented at FRUCT ’24\n",
      "• Achieved 91% test-accuracy using Ant-colony optimization for hyperparameter tuning of custom ANN.\n",
      "• Compared genetic algo and swarm bee optimization for hyperparameter tuning. Deployed web-app and mobile-app.\n",
      "ACHIEVEMENTS\n",
      "• Secured Global Rank 12 and 19 in two subtasks of ACL-BEA SIGEDU Shared Task based on NLP.\n",
      "• Selected for and Attended Amazon ML Summer School 2023 and also Selected for Amazon CodeElevate 2023.\n",
      "• Qualified Flipkart GRID 5.0 Level 1 in SDE and Robotics tracks. Global Rank 5544 in Google Codejam-2023.\n",
      "• Global rank 27 in Codechef monthly contest (Apr 2022). AIR 3 in Penumbra (2021-22 edition), conducted by IIITV.\n",
      "• Rank Opener (99.91 percentile) of B.Tech in AI 2021-25 batch, recieved Merit-Only scholarship for 3 consecutive years.\n",
      "• AIR 1125 in JEE-MAIN , AIR 4658 in JEE-ADV, AIR 70 in ISI Entrance Test, 330 in AP-EAPCET in 2021.\n",
      "• Qualified KVPY round 1 in 2020, secured Rank 7 in NTSE Stage 1 2020.\n",
      "SKILLS\n",
      "Languages\n",
      "Adept: Python, C. Familiar: Java, Javascript, C++, SQL\n",
      "Coursework\n",
      "DSA, Data Science, ML, NLP, AI, Optimization Techniques, Deep Learning, Parallel Computing\n",
      "Developer Tools\n",
      "VS Code, Pycharm, Jupyter Notebook, Google Colab, IBM Quiskit, Git\n",
      "Technologies/Frameworks\n",
      "OpenCV, MediaPipe, Tensorflow, Keras, Streamlit, Linux, SciPy\n",
      "POSITION OF RESPONSIBILITY\n",
      "• Placement Coordinator, CDC-NITK.\n",
      "May 2024 - Present\n",
      "• Internship Coordinator, CDC-NITK.\n",
      "Jul 2023 - Mar 2024\n",
      "• Academic Secretary, NITK Students’ Council.\n",
      "Apr 2023 - Apr 2024\n",
      "• Secretary, ACM-NITK Student Chapter.\n",
      "Apr 2023 - Mar 2024\n",
      "• ML Track sub-incharge in Tri-NIT Hackathon, ACM-NITK Student Chapter.\n",
      "Dec 2022 - Feb 2023\n",
      "EXTRA-CURRICULAR ACTIVITIES\n",
      "• Section Editor of Annual Magazine of ACM-NITK for year 2022-23. Authored a BLOG on Singuarity for ACM-NITK.\n",
      "• Worked as Teaching Assistant at NITK for Professional Communication under School of Management for 4 months.\n",
      "• NSS Volunteer and Core member in web-team of NSS-NITK unit.\n",
      "\n",
      "\n"
     ]
    }
   ],
   "source": [
    "import fitz  \n",
    "\n",
    "def extract_text_from_pdf(pdf_path):\n",
    "    document = fitz.open(pdf_path)\n",
    "    full_text = \"\"\n",
    "    for page_number in range(len(document)):\n",
    "        page = document.load_page(page_number)\n",
    "        text = page.get_text(\"text\")\n",
    "        full_text += text + \"\\n\"\n",
    "    return full_text\n",
    "\n",
    "pdf_path = 'resume_RaviRam.pdf'\n",
    "text = extract_text_from_pdf(pdf_path)\n",
    "print(text)\n"
   ]
  },
  {
   "cell_type": "code",
   "execution_count": null,
   "metadata": {},
   "outputs": [],
   "source": [
    "import os\n",
    "from openai import OpenAI\n",
    "\n",
    "client = OpenAI(api_key=os.environ.get(\"OPENAI_API_KEY\"))\n",
    "\n",
    "def get_resume_headers(resume_text):\n",
    "    prompt = (\"Extract only headers from the following resume text comma seperated format:\\n\\n\"f\"{resume_text}\\n\\n\"\"Headers:\")\n",
    "    chat_completion = client.chat.completions.create(messages=[{\"role\": \"user\",\"content\": prompt}],model=\"gpt-3.5-turbo\",)\n",
    "    headers = chat_completion.choices[0].message['content'].strip().split('\\n')\n",
    "    return headers\n",
    "\n",
    "def create_json_format_prompt(headers, resume_text):\n",
    "    prompt = (f\"Extract content related to {headers} from resume text given below and output only json format of this profile. Name, Education must definitely be included in headers\\n\\nresume text:\\n{resume_text}\")\n",
    "    chat_completion = client.chat.completions.create(messages=[{\"role\": \"user\",\"content\": prompt}],model=\"gpt-3.5-turbo\",)\n",
    "    return chat_completion.choices[0].message['content'].strip()"
   ]
  },
  {
   "cell_type": "code",
   "execution_count": null,
   "metadata": {},
   "outputs": [],
   "source": [
    "resume_text = extract_text_from_pdf(pdf_path)\n",
    "headers = input(\"Enter feilds you want to extract from resume(comma seperated). Otherwise press 'enter' to continue and extract entire resume text : \")\n",
    "if headers == '':\n",
    "    headers = get_resume_headers(resume_text)\n",
    "profile_data = create_json_format_prompt(headers, resume_text)\n",
    "print(\"Headers:\", headers)\n",
    "print(\"JSON Format Results:\\n\", profile_data)"
   ]
  },
  {
   "cell_type": "code",
   "execution_count": null,
   "metadata": {},
   "outputs": [],
   "source": [
    "import json\n",
    "json_data = json.dumps(profile_data, indent=4)\n",
    "\n",
    "# Save JSON to a file\n",
    "with open('profile_data.json', 'w') as json_file:\n",
    "    json_file.write(json_data)"
   ]
  }
 ],
 "metadata": {
  "kernelspec": {
   "display_name": "Python 3",
   "language": "python",
   "name": "python3"
  },
  "language_info": {
   "codemirror_mode": {
    "name": "ipython",
    "version": 3
   },
   "file_extension": ".py",
   "mimetype": "text/x-python",
   "name": "python",
   "nbconvert_exporter": "python",
   "pygments_lexer": "ipython3",
   "version": "3.10.4"
  }
 },
 "nbformat": 4,
 "nbformat_minor": 2
}
